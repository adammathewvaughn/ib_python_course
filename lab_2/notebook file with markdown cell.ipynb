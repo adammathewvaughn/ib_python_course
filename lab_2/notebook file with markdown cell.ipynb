{
 "cells": [
  {
   "cell_type": "code",
   "execution_count": null,
   "metadata": {},
   "outputs": [],
   "source": []
  },
  {
   "cell_type": "markdown",
   "metadata": {},
   "source": [
    "What is an interpreted language? *\n",
    "The syntax is compiled by the local machine\n",
    "Each statement is executed line by line\n",
    "It can interpret what you write before running and give you a warning if the syntax is not right\n",
    "All interpreted languages are run on an apache server, which is why the run time complexity is better\n",
    "What is local scope in python? *\n",
    "refers to the global objects of the current module accessible in the program\n",
    "refers to the all built-in names callable in the program\n",
    "refers to the local objects available in the current function\n",
    "refers to the objects available throughout the code execution since their inception\n",
    "Write a python program to count every character of a given text file *\n",
    " \n",
    "This is a required question\n",
    "Write a python program to remove all odd integers from this list and only return the unchanged list of even integers (iteration is required for this to be correct)...... list = [4, 2, 3, 73, 12, 33, 11, 88] *\n",
    "How is memory managed in Python?\n",
    "managed by pointers\n",
    "managed by the python memory manager\n",
    "managed by the variables it is assigned to\n",
    "managed by the python interpreter when you code is compiled by the Python Virtual Machine\n",
    "What is the difference between Python Arrays and Lists? *\n",
    " \n",
    "This is a required question\n",
    "What is the use of \"self\" in Python? *\n",
    "Tells the python virtual machine where to assign pointers to variables\n",
    "Works with the interpreter to compile your code\n",
    "used to represent the instance of the class\n",
    "Self is is a python library called \"Syntax Error Line Format\" that is already installed with your current version and is how python is able to throw errors with syntax errors\n",
    "What is the key differences between tuples and lists in Python? *\n",
    "What objects in Python are not iterable? *\n",
    "What is a dynamically typed language? *\n",
    " \n",
    "This is a required question\n"
   ]
  }
 ],
 "metadata": {
  "language_info": {
   "name": "python"
  },
  "orig_nbformat": 4
 },
 "nbformat": 4,
 "nbformat_minor": 2
}
